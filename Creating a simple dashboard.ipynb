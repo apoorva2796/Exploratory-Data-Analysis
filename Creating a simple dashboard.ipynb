{
 "cells": [
  {
   "cell_type": "markdown",
   "metadata": {
    "extensions": {
     "jupyter_dashboards": {
      "version": 1,
      "views": {
       "grid_default": {},
       "report_default": {
        "hidden": false
       }
      }
     }
    }
   },
   "source": [
    "                                                IPL Dashboard"
   ]
  },
  {
   "cell_type": "code",
   "execution_count": 1,
   "metadata": {
    "extensions": {
     "jupyter_dashboards": {
      "version": 1,
      "views": {
       "grid_default": {},
       "report_default": {
        "hidden": true
       }
      }
     }
    }
   },
   "outputs": [],
   "source": [
    "import pandas as pd\n",
    "import numpy as np\n",
    "from matplotlib import pyplot as plt\n",
    "from dfply import *\n",
    "\n",
    "ball_by_ball = pd.read_excel(\"C:\\\\Users\\\\amitc\\\\Desktop\\\\IPL Data\\\\Ball_by_Ball.xlsx\")\n",
    "player = pd.read_excel(\"C:\\\\Users\\\\amitc\\\\Desktop\\\\IPL Data\\\\Player.xlsx\")\n",
    "season = pd.read_excel(\"C:\\\\Users\\\\amitc\\\\Desktop\\\\IPL Data\\\\Season.xlsx\")\n",
    "team = pd.read_excel(\"C:\\\\Users\\\\amitc\\\\Desktop\\\\IPL Data\\\\Team.xlsx\")"
   ]
  },
  {
   "cell_type": "code",
   "execution_count": 2,
   "metadata": {
    "extensions": {
     "jupyter_dashboards": {
      "version": 1,
      "views": {
       "grid_default": {},
       "report_default": {
        "hidden": true
       }
      }
     }
    }
   },
   "outputs": [],
   "source": [
    "# Data modelling \n",
    "\n",
    "final_data = pd.merge(ball_by_ball, player[['Player_Id','Player_Name']], left_on=\"Striker_Id\", right_on=\"Player_Id\")\n",
    "\n",
    "final_data = pd.merge(final_data, season, left_on=\"Season_Id\", right_on=\"Season_Id\")\n",
    "\n",
    "final_data = pd.merge(final_data, team, left_on=\"Team_Batting_Id\", right_on=\"Team_Id\")\n",
    "\n"
   ]
  },
  {
   "cell_type": "code",
   "execution_count": 3,
   "metadata": {
    "extensions": {
     "jupyter_dashboards": {
      "version": 1,
      "views": {
       "grid_default": {},
       "report_default": {
        "hidden": false
       }
      }
     }
    },
    "scrolled": true
   },
   "outputs": [
    {
     "data": {
      "application/vnd.jupyter.widget-view+json": {
       "model_id": "85b13cbd449649aaa7b6e95c852084fa",
       "version_major": 2,
       "version_minor": 0
      },
      "text/plain": [
       "interactive(children=(Dropdown(description='Year: ', options=('All', 2008, 2009, 2010, 2011, 2012, 2013, 2014,…"
      ]
     },
     "metadata": {},
     "output_type": "display_data"
    },
    {
     "data": {
      "text/plain": [
       "<function __main__.f(x)>"
      ]
     },
     "execution_count": 3,
     "metadata": {},
     "output_type": "execute_result"
    }
   ],
   "source": [
    "# KPI box\n",
    "\n",
    "from ipywidgets import widgets, interact, Layout, Button, Box\n",
    "\n",
    "from IPython.display import display\n",
    "\n",
    "Year = widgets.Dropdown(options = ['All'] + list(final_data['Season_Year'].unique()),\n",
    "                      value = 'All',\n",
    "                      description = \"Year: \"\n",
    ")\n",
    "\n",
    "def f(x):\n",
    "    \n",
    "    if Year.value != \"All\":\n",
    "        df2 = final_data[final_data.Season_Year == Year.value]\n",
    "    else:\n",
    "        df2 = final_data\n",
    "    \n",
    "    # Plot\n",
    "    # Total Matches\n",
    "    #M = df2['Match_Id'].nunique()\n",
    "    \n",
    "    # Total Runs\n",
    "    #R = df2['Batsman_Scored'].sum()\n",
    "    \n",
    "    # Plotting multiple grids and plot size\n",
    "    \n",
    "    fig, axarr = plt.subplots(2)\n",
    "    \n",
    "    plt.rcParams['figure.figsize'] = [15,5]\n",
    "    \n",
    "    # Calulation for chart 1 : Top 10 batsman based on runs and \n",
    "    \n",
    "    Top_batsman = df2.groupby('Player_Name')['Batsman_Scored'].sum().sort_values(ascending=False).reset_index()\n",
    "    \n",
    "    top_10_b = Top_batsman.head(10)\n",
    "    \n",
    "    axarr[0].bar(top_10_b['Player_Name'], top_10_b['Batsman_Scored'], width = .4)\n",
    "    \n",
    "    axarr[0].set_title('Top 10 batsman')\n",
    "    \n",
    "    # Calculation for Chart 2 : Top 10 team\n",
    "    \n",
    "    Top_team = df2.groupby('Team_Short_Code')['Batsman_Scored'].sum().sort_values(ascending=False).reset_index()\n",
    "    \n",
    "    top_10_t = Top_team.head(10)\n",
    "    \n",
    "    axarr[1].bar(top_10_t['Team_Short_Code'], top_10_t['Batsman_Scored'], width = .4)\n",
    "    \n",
    "\n",
    "interact(f, x = Year)\n",
    "\n"
   ]
  }
 ],
 "metadata": {
  "extensions": {
   "jupyter_dashboards": {
    "activeView": "grid_default",
    "version": 1,
    "views": {
     "grid_default": {
      "cellMargin": 10,
      "defaultCellHeight": 20,
      "maxColumns": 12,
      "name": "grid",
      "type": "grid"
     },
     "report_default": {
      "name": "report",
      "type": "report"
     }
    }
   }
  },
  "kernelspec": {
   "display_name": "Python 3",
   "language": "python",
   "name": "python3"
  },
  "language_info": {
   "codemirror_mode": {
    "name": "ipython",
    "version": 3
   },
   "file_extension": ".py",
   "mimetype": "text/x-python",
   "name": "python",
   "nbconvert_exporter": "python",
   "pygments_lexer": "ipython3",
   "version": "3.7.1"
  }
 },
 "nbformat": 4,
 "nbformat_minor": 2
}
